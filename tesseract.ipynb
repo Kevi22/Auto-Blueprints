{
 "cells": [
  {
   "cell_type": "code",
   "execution_count": 1,
   "metadata": {},
   "outputs": [
    {
     "name": "stderr",
     "output_type": "stream",
     "text": [
      "usage: ipykernel_launcher.py [-h] -i IMAGE [-p PRE_PROCESSOR]\n",
      "ipykernel_launcher.py: error: the following arguments are required: -i/--image\n"
     ]
    },
    {
     "ename": "SystemExit",
     "evalue": "2",
     "output_type": "error",
     "traceback": [
      "An exception has occurred, use %tb to see the full traceback.\n",
      "\u001b[1;31mSystemExit\u001b[0m\u001b[1;31m:\u001b[0m 2\n"
     ]
    },
    {
     "name": "stderr",
     "output_type": "stream",
     "text": [
      "c:\\Users\\MaxF�rsntr�m-AI23GBG\\LIA_2_blueprint_auto\\Auto-Blueprints\\.venv\\Lib\\site-packages\\IPython\\core\\interactiveshell.py:3585: UserWarning: To exit: use 'exit', 'quit', or Ctrl-D.\n",
      "  warn(\"To exit: use 'exit', 'quit', or Ctrl-D.\", stacklevel=1)\n"
     ]
    }
   ],
   "source": [
    "import cv2\n",
    "import os, argparse\n",
    "from PIL import Image\n",
    "import pytesseract\n",
    "\n",
    "# Argument parser\n",
    "ap = argparse.ArgumentParser()\n",
    "ap.add_argument(\"-i\",\"--image\",\n",
    "                required=True,\n",
    "                help=\"Path to the image folder\")\n",
    "ap.add_argument(\"-p\",\"--pre_processor\",\n",
    "                default=\"thresh\",\n",
    "                help=\"the preprocessor usage\")\n",
    "args = vars(ap.parse_args())\n",
    "\n",
    "# reading image with text\n",
    "images = cv2.imread(args[\"image\"])\n",
    "\n",
    "# convert to grayscale\n",
    "gray = cv2.cvtColor(images, cv2.COLOR_BGR2GRAY)\n",
    "\n",
    "# checking if thresh or blur\n",
    "if args[\"pre_processor\"]==\"thresh\":\n",
    "    cv2.threshold(gray, 0,255,cv2.THRESH_BINARY | cv2.THRESH_OTSU)[1]\n",
    "elif args[\"pre_processor\"]==\"blur\":\n",
    "    gray = cv2.medianBlur(gray, 3)\n",
    "\n",
    "# memory usage with image, adding image to memory\n",
    "filename = \"{}.jpg\".format(os.getpid())\n",
    "cv2.imwrite(filename, gray)\n",
    "text = pytesseract.image_to_string(Image.open(filename))\n",
    "os.remove(filename)\n",
    "print(text)\n",
    "\n",
    "# output images\n",
    "cv2.imshow(\"Image Input\", images)\n",
    "cv2.imshow(\"Output In Grayscale\", gray)\n",
    "cv2.waitKey(0)"
   ]
  }
 ],
 "metadata": {
  "kernelspec": {
   "display_name": ".venv",
   "language": "python",
   "name": "python3"
  },
  "language_info": {
   "codemirror_mode": {
    "name": "ipython",
    "version": 3
   },
   "file_extension": ".py",
   "mimetype": "text/x-python",
   "name": "python",
   "nbconvert_exporter": "python",
   "pygments_lexer": "ipython3",
   "version": "3.12.6"
  }
 },
 "nbformat": 4,
 "nbformat_minor": 2
}
